{
 "cells": [
  {
   "cell_type": "markdown",
   "metadata": {},
   "source": [
    "DAND: Titanic Project"
   ]
  },
  {
   "cell_type": "code",
   "execution_count": 34,
   "metadata": {},
   "outputs": [],
   "source": [
    "from __future__ import division\n",
    "import pandas as pd\n",
    "import matplotlib.pyplot as plt\n",
    "\n",
    "titaData = pd.read_csv(\"C:/Users/layal/Desktop/Titanic Project/titanic-data.csv\")\n",
    "#I dropped the following columns because I don't need them to answer the questions I have about this dataset\n",
    "titaData = titaData.drop([\"SibSp\",\"Parch\",\"Ticket\",\"Cabin\",\"Embarked\"], axis=1)"
   ]
  },
  {
   "cell_type": "markdown",
   "metadata": {},
   "source": [
    "First thing I did is to look at describe() and head() outputs.\n",
    "Found the following interesting facts:\n",
    "  Between 50% and 75% of the passengers did not survive.\n",
    "  Less than 25% of the passengers were of Pclass 1.\n",
    "  75% of the passengers were 38 years old or younger.\n",
    "  75% of the passengers paid $31 of less to get into the ship. Average fare was $32.20.\n",
    "The output of describe show the following problems with data:\n",
    "  The output of count (nonNull entries) in Age is less than total number of rows.\n",
    "  The minimum Fare is zero, it is a little unsual to have passengers who paid $0."
   ]
  },
  {
   "cell_type": "code",
   "execution_count": 35,
   "metadata": {},
   "outputs": [
    {
     "data": {
      "text/html": [
       "<div>\n",
       "<style>\n",
       "    .dataframe thead tr:only-child th {\n",
       "        text-align: right;\n",
       "    }\n",
       "\n",
       "    .dataframe thead th {\n",
       "        text-align: left;\n",
       "    }\n",
       "\n",
       "    .dataframe tbody tr th {\n",
       "        vertical-align: top;\n",
       "    }\n",
       "</style>\n",
       "<table border=\"1\" class=\"dataframe\">\n",
       "  <thead>\n",
       "    <tr style=\"text-align: right;\">\n",
       "      <th></th>\n",
       "      <th>PassengerId</th>\n",
       "      <th>Survived</th>\n",
       "      <th>Pclass</th>\n",
       "      <th>Name</th>\n",
       "      <th>Sex</th>\n",
       "      <th>Age</th>\n",
       "      <th>Fare</th>\n",
       "    </tr>\n",
       "  </thead>\n",
       "  <tbody>\n",
       "    <tr>\n",
       "      <th>0</th>\n",
       "      <td>1</td>\n",
       "      <td>0</td>\n",
       "      <td>3</td>\n",
       "      <td>Braund, Mr. Owen Harris</td>\n",
       "      <td>male</td>\n",
       "      <td>22.0</td>\n",
       "      <td>7.2500</td>\n",
       "    </tr>\n",
       "    <tr>\n",
       "      <th>1</th>\n",
       "      <td>2</td>\n",
       "      <td>1</td>\n",
       "      <td>1</td>\n",
       "      <td>Cumings, Mrs. John Bradley (Florence Briggs Th...</td>\n",
       "      <td>female</td>\n",
       "      <td>38.0</td>\n",
       "      <td>71.2833</td>\n",
       "    </tr>\n",
       "    <tr>\n",
       "      <th>2</th>\n",
       "      <td>3</td>\n",
       "      <td>1</td>\n",
       "      <td>3</td>\n",
       "      <td>Heikkinen, Miss. Laina</td>\n",
       "      <td>female</td>\n",
       "      <td>26.0</td>\n",
       "      <td>7.9250</td>\n",
       "    </tr>\n",
       "    <tr>\n",
       "      <th>3</th>\n",
       "      <td>4</td>\n",
       "      <td>1</td>\n",
       "      <td>1</td>\n",
       "      <td>Futrelle, Mrs. Jacques Heath (Lily May Peel)</td>\n",
       "      <td>female</td>\n",
       "      <td>35.0</td>\n",
       "      <td>53.1000</td>\n",
       "    </tr>\n",
       "    <tr>\n",
       "      <th>4</th>\n",
       "      <td>5</td>\n",
       "      <td>0</td>\n",
       "      <td>3</td>\n",
       "      <td>Allen, Mr. William Henry</td>\n",
       "      <td>male</td>\n",
       "      <td>35.0</td>\n",
       "      <td>8.0500</td>\n",
       "    </tr>\n",
       "  </tbody>\n",
       "</table>\n",
       "</div>"
      ],
      "text/plain": [
       "   PassengerId  Survived  Pclass  \\\n",
       "0            1         0       3   \n",
       "1            2         1       1   \n",
       "2            3         1       3   \n",
       "3            4         1       1   \n",
       "4            5         0       3   \n",
       "\n",
       "                                                Name     Sex   Age     Fare  \n",
       "0                            Braund, Mr. Owen Harris    male  22.0   7.2500  \n",
       "1  Cumings, Mrs. John Bradley (Florence Briggs Th...  female  38.0  71.2833  \n",
       "2                             Heikkinen, Miss. Laina  female  26.0   7.9250  \n",
       "3       Futrelle, Mrs. Jacques Heath (Lily May Peel)  female  35.0  53.1000  \n",
       "4                           Allen, Mr. William Henry    male  35.0   8.0500  "
      ]
     },
     "execution_count": 35,
     "metadata": {},
     "output_type": "execute_result"
    }
   ],
   "source": [
    "titaData.describe()\n",
    "titaData.head()"
   ]
  },
  {
   "cell_type": "markdown",
   "metadata": {},
   "source": [
    "I looked at rows with empty age, they look okay. I also checked if\n",
    "rows with missing Age have a Fare of 0 in which case I would have discard the entire \n",
    "row, but that was not the case, therefore I choose to keep these rows\n",
    "and replace the missing Age with the mean of column Age."
   ]
  },
  {
   "cell_type": "code",
   "execution_count": 36,
   "metadata": {},
   "outputs": [
    {
     "name": "stdout",
     "output_type": "stream",
     "text": [
      "     PassengerId  Survived  Pclass  \\\n",
      "5              6         0       3   \n",
      "17            18         1       2   \n",
      "19            20         1       3   \n",
      "26            27         0       3   \n",
      "28            29         1       3   \n",
      "29            30         0       3   \n",
      "31            32         1       1   \n",
      "32            33         1       3   \n",
      "36            37         1       3   \n",
      "42            43         0       3   \n",
      "45            46         0       3   \n",
      "46            47         0       3   \n",
      "47            48         1       3   \n",
      "48            49         0       3   \n",
      "55            56         1       1   \n",
      "64            65         0       1   \n",
      "65            66         1       3   \n",
      "76            77         0       3   \n",
      "77            78         0       3   \n",
      "82            83         1       3   \n",
      "87            88         0       3   \n",
      "95            96         0       3   \n",
      "101          102         0       3   \n",
      "107          108         1       3   \n",
      "109          110         1       3   \n",
      "121          122         0       3   \n",
      "126          127         0       3   \n",
      "128          129         1       3   \n",
      "140          141         0       3   \n",
      "154          155         0       3   \n",
      "..           ...       ...     ...   \n",
      "718          719         0       3   \n",
      "727          728         1       3   \n",
      "732          733         0       2   \n",
      "738          739         0       3   \n",
      "739          740         0       3   \n",
      "740          741         1       1   \n",
      "760          761         0       3   \n",
      "766          767         0       1   \n",
      "768          769         0       3   \n",
      "773          774         0       3   \n",
      "776          777         0       3   \n",
      "778          779         0       3   \n",
      "783          784         0       3   \n",
      "790          791         0       3   \n",
      "792          793         0       3   \n",
      "793          794         0       1   \n",
      "815          816         0       1   \n",
      "825          826         0       3   \n",
      "826          827         0       3   \n",
      "828          829         1       3   \n",
      "832          833         0       3   \n",
      "837          838         0       3   \n",
      "839          840         1       1   \n",
      "846          847         0       3   \n",
      "849          850         1       1   \n",
      "859          860         0       3   \n",
      "863          864         0       3   \n",
      "868          869         0       3   \n",
      "878          879         0       3   \n",
      "888          889         0       3   \n",
      "\n",
      "                                               Name     Sex  Age      Fare  \n",
      "5                                  Moran, Mr. James    male  NaN    8.4583  \n",
      "17                     Williams, Mr. Charles Eugene    male  NaN   13.0000  \n",
      "19                          Masselmani, Mrs. Fatima  female  NaN    7.2250  \n",
      "26                          Emir, Mr. Farred Chehab    male  NaN    7.2250  \n",
      "28                    O'Dwyer, Miss. Ellen \"Nellie\"  female  NaN    7.8792  \n",
      "29                              Todoroff, Mr. Lalio    male  NaN    7.8958  \n",
      "31   Spencer, Mrs. William Augustus (Marie Eugenie)  female  NaN  146.5208  \n",
      "32                         Glynn, Miss. Mary Agatha  female  NaN    7.7500  \n",
      "36                                 Mamee, Mr. Hanna    male  NaN    7.2292  \n",
      "42                              Kraeff, Mr. Theodor    male  NaN    7.8958  \n",
      "45                         Rogers, Mr. William John    male  NaN    8.0500  \n",
      "46                                Lennon, Mr. Denis    male  NaN   15.5000  \n",
      "47                        O'Driscoll, Miss. Bridget  female  NaN    7.7500  \n",
      "48                              Samaan, Mr. Youssef    male  NaN   21.6792  \n",
      "55                                Woolner, Mr. Hugh    male  NaN   35.5000  \n",
      "64                            Stewart, Mr. Albert A    male  NaN   27.7208  \n",
      "65                         Moubarek, Master. Gerios    male  NaN   15.2458  \n",
      "76                                Staneff, Mr. Ivan    male  NaN    7.8958  \n",
      "77                         Moutal, Mr. Rahamin Haim    male  NaN    8.0500  \n",
      "82                   McDermott, Miss. Brigdet Delia  female  NaN    7.7875  \n",
      "87                    Slocovski, Mr. Selman Francis    male  NaN    8.0500  \n",
      "95                      Shorney, Mr. Charles Joseph    male  NaN    8.0500  \n",
      "101                Petroff, Mr. Pastcho (\"Pentcho\")    male  NaN    7.8958  \n",
      "107                          Moss, Mr. Albert Johan    male  NaN    7.7750  \n",
      "109                             Moran, Miss. Bertha  female  NaN   24.1500  \n",
      "121                      Moore, Mr. Leonard Charles    male  NaN    8.0500  \n",
      "126                             McMahon, Mr. Martin    male  NaN    7.7500  \n",
      "128                               Peter, Miss. Anna  female  NaN   22.3583  \n",
      "140                   Boulos, Mrs. Joseph (Sultana)  female  NaN   15.2458  \n",
      "154                           Olsen, Mr. Ole Martin    male  NaN    7.3125  \n",
      "..                                              ...     ...  ...       ...  \n",
      "718                             McEvoy, Mr. Michael    male  NaN   15.5000  \n",
      "727                        Mannion, Miss. Margareth  female  NaN    7.7375  \n",
      "732                            Knight, Mr. Robert J    male  NaN    0.0000  \n",
      "738                              Ivanoff, Mr. Kanio    male  NaN    7.8958  \n",
      "739                              Nankoff, Mr. Minko    male  NaN    7.8958  \n",
      "740                     Hawksford, Mr. Walter James    male  NaN   30.0000  \n",
      "760                              Garfirth, Mr. John    male  NaN   14.5000  \n",
      "766                       Brewe, Dr. Arthur Jackson    male  NaN   39.6000  \n",
      "768                             Moran, Mr. Daniel J    male  NaN   24.1500  \n",
      "773                                 Elias, Mr. Dibo    male  NaN    7.2250  \n",
      "776                                Tobin, Mr. Roger    male  NaN    7.7500  \n",
      "778                         Kilgannon, Mr. Thomas J    male  NaN    7.7375  \n",
      "783                          Johnston, Mr. Andrew G    male  NaN   23.4500  \n",
      "790                        Keane, Mr. Andrew \"Andy\"    male  NaN    7.7500  \n",
      "792                         Sage, Miss. Stella Anna  female  NaN   69.5500  \n",
      "793                        Hoyt, Mr. William Fisher    male  NaN   30.6958  \n",
      "815                                Fry, Mr. Richard    male  NaN    0.0000  \n",
      "825                                 Flynn, Mr. John    male  NaN    6.9500  \n",
      "826                                    Lam, Mr. Len    male  NaN   56.4958  \n",
      "828                    McCormack, Mr. Thomas Joseph    male  NaN    7.7500  \n",
      "832                                  Saad, Mr. Amin    male  NaN    7.2292  \n",
      "837                             Sirota, Mr. Maurice    male  NaN    8.0500  \n",
      "839                            Marechal, Mr. Pierre    male  NaN   29.7000  \n",
      "846                        Sage, Mr. Douglas Bullen    male  NaN   69.5500  \n",
      "849    Goldenberg, Mrs. Samuel L (Edwiga Grabowska)  female  NaN   89.1042  \n",
      "859                                Razi, Mr. Raihed    male  NaN    7.2292  \n",
      "863               Sage, Miss. Dorothy Edith \"Dolly\"  female  NaN   69.5500  \n",
      "868                     van Melkebeke, Mr. Philemon    male  NaN    9.5000  \n",
      "878                              Laleff, Mr. Kristo    male  NaN    7.8958  \n",
      "888        Johnston, Miss. Catherine Helen \"Carrie\"  female  NaN   23.4500  \n",
      "\n",
      "[177 rows x 7 columns]\n",
      "0\n",
      "True\n"
     ]
    }
   ],
   "source": [
    "# I used print below because I was using Spyder when I wrote the code\n",
    "rows_with_empty_age = titaData.loc[titaData[\"Age\"].isnull()]\n",
    "print rows_with_empty_age\n",
    "print len(rows_with_empty_age.loc[titaData[\"Fare\"].isnull()])\n",
    "#Check if passengers are unique\n",
    "print titaData[\"Name\"].nunique() == len(titaData)\n",
    "age_mean = titaData[\"Age\"].mean()\n",
    "titaData[\"Age\"].fillna(age_mean, inplace = True)"
   ]
  },
  {
   "cell_type": "markdown",
   "metadata": {},
   "source": [
    "Next I look at passengers with $0 Fare and found that other cells look okay\n",
    "These passengers may have been crew members."
   ]
  },
  {
   "cell_type": "code",
   "execution_count": 37,
   "metadata": {},
   "outputs": [
    {
     "name": "stdout",
     "output_type": "stream",
     "text": [
      "     PassengerId  Survived  Pclass                              Name   Sex  \\\n",
      "179          180         0       3               Leonard, Mr. Lionel  male   \n",
      "263          264         0       1             Harrison, Mr. William  male   \n",
      "271          272         1       3      Tornquist, Mr. William Henry  male   \n",
      "277          278         0       2       Parkes, Mr. Francis \"Frank\"  male   \n",
      "302          303         0       3   Johnson, Mr. William Cahoone Jr  male   \n",
      "413          414         0       2    Cunningham, Mr. Alfred Fleming  male   \n",
      "466          467         0       2             Campbell, Mr. William  male   \n",
      "481          482         0       2  Frost, Mr. Anthony Wood \"Archie\"  male   \n",
      "597          598         0       3               Johnson, Mr. Alfred  male   \n",
      "633          634         0       1     Parr, Mr. William Henry Marsh  male   \n",
      "674          675         0       2        Watson, Mr. Ennis Hastings  male   \n",
      "732          733         0       2              Knight, Mr. Robert J  male   \n",
      "806          807         0       1            Andrews, Mr. Thomas Jr  male   \n",
      "815          816         0       1                  Fry, Mr. Richard  male   \n",
      "822          823         0       1   Reuchlin, Jonkheer. John George  male   \n",
      "\n",
      "           Age  Fare  \n",
      "179  36.000000   0.0  \n",
      "263  40.000000   0.0  \n",
      "271  25.000000   0.0  \n",
      "277  29.699118   0.0  \n",
      "302  19.000000   0.0  \n",
      "413  29.699118   0.0  \n",
      "466  29.699118   0.0  \n",
      "481  29.699118   0.0  \n",
      "597  49.000000   0.0  \n",
      "633  29.699118   0.0  \n",
      "674  29.699118   0.0  \n",
      "732  29.699118   0.0  \n",
      "806  39.000000   0.0  \n",
      "815  29.699118   0.0  \n",
      "822  38.000000   0.0  \n"
     ]
    }
   ],
   "source": [
    "print titaData.loc[titaData[\"Fare\"]==0]"
   ]
  },
  {
   "cell_type": "markdown",
   "metadata": {},
   "source": [
    "I noticed that Fare field include cents to four decimal points, I'm not sure\n",
    "if that was possible at that time or if this is an error. E.g., Row 1 has a Fare \n",
    "of $71.2833.\n",
    "I noticed that there are so many rows that are missing the Cabin cell, but I decide\n",
    "to leave these cells as NaN because there are too many to be fixed"
   ]
  },
  {
   "cell_type": "markdown",
   "metadata": {},
   "source": [
    "Questions to investigate\n",
    "\n",
    "How would the age correlate to whether the passenger survived?\n",
    "How would the passanger class correlate to whether the passenger survive?\n",
    "Does the passenger gender have impact on survival rate?"
   ]
  },
  {
   "cell_type": "markdown",
   "metadata": {},
   "source": [
    "Following I look at a histogram of ages in general."
   ]
  },
  {
   "cell_type": "code",
   "execution_count": 38,
   "metadata": {},
   "outputs": [
    {
     "data": {
      "image/png": "[encoded data removed]",
      "text/plain": [
       "<matplotlib.figure.Figure at 0xc4ad4e0>"
      ]
     },
     "metadata": {},
     "output_type": "display_data"
    }
   ],
   "source": [
    "age_histo = titaData[\"Age\"].hist()\n",
    "age_histo.set_title(\"Age Histogram of Titanic Passengers\")\n",
    "age_histo.set_xlabel(\"Age in years\")\n",
    "age_histo.set_ylabel(\"Frequency\")\n",
    "plt.show()"
   ]
  },
  {
   "cell_type": "markdown",
   "metadata": {},
   "source": [
    "The figure does not answer any of my questions listed above. But I plotted that out of curiosity. I found that the majority of\n",
    "passengers is between 20 to 35 years old.\n",
    "Next, I look at the gender survival rates, I put the children in their own category so they would not biase the breakdown."
   ]
  },
  {
   "cell_type": "code",
   "execution_count": 39,
   "metadata": {},
   "outputs": [
    {
     "data": {
      "image/png": "[encoded data removed]",
      "text/plain": [
       "<matplotlib.figure.Figure at 0xc0177f0>"
      ]
     },
     "metadata": {},
     "output_type": "display_data"
    }
   ],
   "source": [
    "men_count = len(titaData[(titaData[\"Sex\"] == \"male\") &\n",
    "                         (titaData[\"Age\"] > 18)])\n",
    "\n",
    "women_count = len(titaData[(titaData[\"Sex\"] == \"female\") &\n",
    "                           (titaData[\"Age\"] > 18)])\n",
    "children_count = len(titaData[(titaData[\"Age\"] <= 18)])\n",
    "men_survived_count = len(titaData[(titaData[\"Sex\"] == \"male\") &\n",
    "                                  (titaData[\"Survived\"] == 1) &\n",
    "                                  (titaData[\"Age\"] > 18)])\n",
    "\n",
    "women_survived_count = len(titaData[(titaData[\"Sex\"] == \"female\") &\n",
    "                                  (titaData[\"Survived\"] == 1) &\n",
    "                                  (titaData[\"Age\"] > 18)])\n",
    "children_survived_count = len(titaData[(titaData[\"Survived\"] == 1) &\n",
    "                             (titaData[\"Age\"] <= 18)])\n",
    "\n",
    "survivalRates = {\"Men Survived\":men_survived_count/men_count,\n",
    "                 \"Women Survived\":women_survived_count/women_count,\n",
    "                 \"Children Survived\":children_survived_count/children_count}\n",
    "survivalRates = pd.Series(survivalRates)\n",
    "survivalRates = survivalRates*100\n",
    "survivalPlot = survivalRates.plot.bar(title=\"Survival Rates\", colormap=\"jet\",legend=0)\n",
    "survivalPlot.set_xlabel(\"Category\")\n",
    "survivalPlot.set_ylabel(\"Survival Rate (%)\")\n",
    "plt.show()"
   ]
  },
  {
   "cell_type": "markdown",
   "metadata": {},
   "source": [
    "Women has the highest survival rate even higher than children at 75%. Next children have about 50% survival rate and finally men\n",
    "have a survival rate of just below 20%.\n",
    "Next I breakdown the ages into categories and look at the survival rate of each category."
   ]
  },
  {
   "cell_type": "code",
   "execution_count": 32,
   "metadata": {},
   "outputs": [
    {
     "data": {
      "image/png": "[encoded data removed]",
      "text/plain": [
       "<matplotlib.figure.Figure at 0xc6e8278>"
      ]
     },
     "metadata": {},
     "output_type": "display_data"
    }
   ],
   "source": [
    "def ageCategory(age):\n",
    "    age = int(age)\n",
    "    if age <= 18:\n",
    "        return \"<=18\"\n",
    "    elif age > 18 and age <= 25:\n",
    "        return \"18 < age <= 25\"\n",
    "    elif age > 25 and age <= 35:\n",
    "        return \"25 < age <= 35\"\n",
    "    elif age > 35 and age <= 45:\n",
    "        return \"35 < age <= 45\"\n",
    "    elif age > 45 and age <= 55:\n",
    "        return \"45 < age <= 55\"\n",
    "    elif age > 55 and age <= 65:\n",
    "        return \"55 < age <= 65\"\n",
    "    elif age > 65 and age <= 75:\n",
    "        return \"65 < age <= 75\"\n",
    "    else:\n",
    "        return \"75 < age\"\n",
    "titaData[\"Age Range\"] = titaData[\"Age\"].apply(ageCategory)\n",
    "groupedData = titaData.groupby([\"Survived\",\"Age Range\"])\n",
    "all_passengers_count = len(titaData)\n",
    "groupedData = 100*(groupedData.count()/all_passengers_count)\n",
    "plot2 = groupedData[[\"PassengerId\"]].plot.bar(legend=0,title=\"Survival Rate Per Age Range\")\n",
    "plot2.set_ylabel(\"Overall Survival Rate (%)\")\n",
    "plt.show()"
   ]
  },
  {
   "cell_type": "markdown",
   "metadata": {},
   "source": [
    "As for children less than or equal to 18 years old, this confirms be previous finding that about half of them survived.\n",
    "Also, Age Range of (25,35] has the highest mortality rate and highest survival rates just because most passengers were of this category. As the Age Range gets higher number of survivors gets smaller compared to number of mortalities. Passengers ability to \n",
    "escape such a catastrophic event would decrease with age. There is an exception of one 80 years old passenger who survived.\n",
    "Finally, I look at the survival rate for each of the three classes."
   ]
  },
  {
   "cell_type": "code",
   "execution_count": 33,
   "metadata": {},
   "outputs": [
    {
     "data": {
      "image/png": "[encoded data removed]",
      "text/plain": [
       "<matplotlib.figure.Figure at 0xb78a470>"
      ]
     },
     "metadata": {},
     "output_type": "display_data"
    }
   ],
   "source": [
    "survivedData = titaData.drop(titaData[titaData[\"Survived\"] == 0].index)\n",
    "surivivalRatesPerClass = 100 * (survivedData.groupby([\"Pclass\"])[\"PassengerId\"].count() /\\\n",
    "                               titaData.groupby([\"Pclass\"])[\"PassengerId\"].count())\n",
    "plot3 = surivivalRatesPerClass.plot.bar(legend=0,title=\"Survival Rate Per Class\")\n",
    "plot3.set_xlabel(\"Class\")\n",
    "plot3.set_ylabel(\"Survival Rate (%)\")\n",
    "plt.show()"
   ]
  },
  {
   "cell_type": "markdown",
   "metadata": {},
   "source": [
    "The figure shows that class 1 passengers have the highest survival rate of just above 60%. The second highest rate is for class 2 with a survival rate of about 45% and class 3 has the lowest survival rate of about 22%.\n",
    "This might be due to class 1 being loaded first to the rescue boats, or maybe it is a result of having fewer passenger in class 1 compared to class 2 and 3 so more passengers were successfuly rescued relative to the overall passengers in that class."
   ]
  }
 ],
 "metadata": {
  "kernelspec": {
   "display_name": "Python [default]",
   "language": "python",
   "name": "python2"
  },
  "language_info": {
   "codemirror_mode": {
    "name": "ipython",
    "version": 2
   },
   "file_extension": ".py",
   "mimetype": "text/x-python",
   "name": "python",
   "nbconvert_exporter": "python",
   "pygments_lexer": "ipython2",
   "version": "2.7.13"
  }
 },
 "nbformat": 4,
 "nbformat_minor": 2
}
